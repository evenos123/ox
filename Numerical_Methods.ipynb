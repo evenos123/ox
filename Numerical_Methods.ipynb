{
 "cells": [
  {
   "cell_type": "markdown",
   "metadata": {
    "collapsed": true,
    "slideshow": {
     "slide_type": "slide"
    }
   },
   "source": [
    "# Modern Numerical Methods\n",
    "\n",
    "An interactive presentation using Python\n",
    "\n",
    "manos.venardos@gmail.com"
   ]
  },
  {
   "cell_type": "markdown",
   "metadata": {
    "slideshow": {
     "slide_type": "slide"
    }
   },
   "source": [
    "# Agenda\n",
    "- Introduction\n",
    "- Payoff & Density Differentiation\n",
    "- Dependency Graphs\n",
    "- Automatic Differentiation\n",
    "- Machine Learning"
   ]
  },
  {
   "cell_type": "markdown",
   "metadata": {
    "slideshow": {
     "slide_type": "subslide"
    }
   },
   "source": [
    "Using many standard 3rd party libraries, and purpose-built analytics."
   ]
  },
  {
   "cell_type": "code",
   "execution_count": 1,
   "metadata": {
    "slideshow": {
     "slide_type": "-"
    }
   },
   "outputs": [],
   "source": [
    "#Numerics & Analytics\n",
    "import datetime\n",
    "import numpy as np\n",
    "import pandas as pd\n",
    "import tensorflow as tf\n",
    "#import tensorflow.compat.v1 as tf\n",
    "#tf.disable_v2_behavior()\n",
    "from sklearn.neural_network import MLPRegressor\n",
    "from sklearn.preprocessing import StandardScaler\n",
    "from scipy.stats import norm\n",
    "import pydot\n",
    "\n",
    "#Graphs & widgets\n",
    "import matplotlib.pyplot as plt\n",
    "from matplotlib.patches import Ellipse\n",
    "from IPython.display import Image, display, clear_output, HTML\n",
    "\n",
    "#Option Pricing\n",
    "import black_scholes as bs_model\n",
    "import implied_vol as iv_model"
   ]
  },
  {
   "cell_type": "code",
   "execution_count": 2,
   "metadata": {
    "slideshow": {
     "slide_type": "skip"
    }
   },
   "outputs": [],
   "source": [
    "%matplotlib inline"
   ]
  },
  {
   "cell_type": "markdown",
   "metadata": {
    "slideshow": {
     "slide_type": "slide"
    }
   },
   "source": [
    "# Introduction\n",
    "\n",
    "Risk management of derivatives businesses requires significant computational resources and advanced numerical methods in order to compute the plethora of risk and PnL measures required.\n",
    "\n",
    "Consider a path-dependent option on a basket of $\\#N_U$ underlyings, requiring $\\# N_T$ points the path. Such a product is valued with Monte Carlo methods simulating $\\# N_P$ independent paths\n",
    "\n",
    "$$\n",
    "\\hat{V} = \\frac{1}{N_P} \\sum_{p=1}^{N_P} \\Pi(S(p))\n",
    "$$\n",
    "\n",
    "where $\\Pi$ is the payoff at maturity and $S(p)$ the p-th simluated collection of asset paths. Typically 10s or 100s of thousands of path are simulated for this to reliably converge."
   ]
  },
  {
   "cell_type": "markdown",
   "metadata": {
    "slideshow": {
     "slide_type": "subslide"
    }
   },
   "source": [
    "The cost of 1 valuation scales linearly with $N_P$ and is approximately given by\n",
    "\n",
    "$$\n",
    "c_V = c_f + \\left(N_U \\times N_T \\times c_{\\omega} + c_{\\Pi} \\right) \\times N_P\n",
    "$$\n",
    "where\n",
    "- $c_f$ is the fixed cost of setting up the simulation, due to e.g. a calibration\n",
    "- $c_{\\omega}$ is the cost of generating 1 random normal variate\n",
    "- $c_{\\Pi}$ is cost of evaluating the payoff at expiry, given the simulated asset paths"
   ]
  },
  {
   "cell_type": "markdown",
   "metadata": {
    "slideshow": {
     "slide_type": "subslide"
    }
   },
   "source": [
    "We employ the multi-asset Black scholes model and assume interest rates and interim payments are zero. Each asset has a volatility $\\Sigma_u$ and the correlation matrix is $\\rho$. The dynamics are in vector form given by\n",
    "\n",
    "$$dS = C S dW$$\n",
    "\n",
    "where $CC' = diag (\\Sigma) \\times \\rho \\times diag(\\Sigma)$. Of interest are the parameters $S_0 \\in \\Re ^{N_U}$, $\\Sigma \\in \\Re_+^{N_U}$ and $\\rho \\in \\Re^{{N_U} \\times {N_U}}$.\n",
    "\n",
    "Risk Management involves \n",
    "- The calculation of numerous ***risk sensitivities***\n",
    "- Trade re-valuation under different ***scenarios***"
   ]
  },
  {
   "cell_type": "markdown",
   "metadata": {
    "slideshow": {
     "slide_type": "subslide"
    }
   },
   "source": [
    "Of interest are $\\tfrac{\\partial V}{\\partial S_0} \\in \\Re^{N_U}$, $\\tfrac{\\partial V}{\\partial \\Sigma} \\in \\Re^{N_U}$,  $\\tfrac{\\partial V}{\\partial \\rho} \\in \\Re^{N_U \\times N_U}$ of which only $\\tfrac{1}{2}N_U(N_U-1)$ are needed, and $\\tfrac{\\partial^2 V}{\\partial S_0^2} \\in \\Re^{N_U\\times N_U}$ of which only $\\tfrac{1}{2}N_U(N_U+1)$ are needed. When using finite differences\n",
    "\n",
    "\\begin{eqnarray}\n",
    "\\frac{\\partial V}{\\partial \\theta} & \\sim & \\frac{V(\\theta + \\delta) - V(\\theta - \\delta)}{2\\delta} \\\\\n",
    "\\frac{\\partial^2 V}{\\partial \\theta^2} & \\sim & \\frac{V(\\theta + \\delta) -2V(\\theta) + V(\\theta - \\delta)}{\\delta^2}\n",
    "\\end{eqnarray}\n",
    "\n",
    "the total computational cost amounts to $2N_U(2+2N_U)\\times c_V$.\n",
    "\n",
    "We are also interested in valuing the trade under $\\# N_S$ different scenario shocks $(\\delta_n^{S_0}, \\delta_n^{\\Sigma}, \\delta_n^{\\rho})_{n\\leq N_S}$. "
   ]
  },
  {
   "cell_type": "markdown",
   "metadata": {
    "slideshow": {
     "slide_type": "subslide"
    }
   },
   "source": [
    "The total computational cost of valuation, risk measures and scenarios is\n",
    "$$\n",
    "C = (1 + 2N_U(2+N_U) + N_S)\\times c_V\n",
    "$$\n",
    "\n",
    "And if we are interested in \n",
    "- Equidistand spot price scenarios in the hypercube, in which case $\\ln N_S \\sim o(N_U)$\n",
    "- Calculating risk measuers in such a hypercube, in which each scenario requires $o(N_U)$ or $o(N_U^2)$ valuations\n",
    "\n",
    "It gets very costly, very soon.\n",
    "\n",
    "Need efficient techniques for risk measures and scenarios."
   ]
  },
  {
   "cell_type": "code",
   "execution_count": 3,
   "metadata": {
    "slideshow": {
     "slide_type": "skip"
    }
   },
   "outputs": [],
   "source": [
    "def bs_diffusion(rate, spots, vols, correls, timepoints, N, seed = None):\n",
    "    if seed is not None:\n",
    "        np.random.seed(seed)\n",
    "    \n",
    "    spots = np.asarray(spots);  vols = np.asarray(vols);  correls = np.asarray(correls);  timepoints = np.asarray(timepoints)\n",
    "    ts = np.insert(timepoints, 0, 0.0)\n",
    "    dt = np.diff(ts)\n",
    "    \n",
    "    shocks = np.random.multivariate_normal([0.0]*len(spots), correls, (N, len(timepoints)))\n",
    "    drift = np.transpose(np.transpose(np.tile(rate - 0.5 * vols**2, (len(dt), 1))) * dt)\n",
    "    vol = np.transpose(np.transpose(np.tile(vols, (len(dt), 1))) * np.sqrt(dt))\n",
    "    \n",
    "    dlogspot = drift + vol * shocks\n",
    "    spot = spots * np.exp(np.cumsum(dlogspot, axis = 1))\n",
    "    spot = np.insert(spot, 0, spots, axis = 1)\n",
    "    \n",
    "    return spot"
   ]
  },
  {
   "cell_type": "markdown",
   "metadata": {
    "slideshow": {
     "slide_type": "subslide"
    }
   },
   "source": [
    "We simulate correlated paths across 5 assets"
   ]
  },
  {
   "cell_type": "code",
   "execution_count": 4,
   "metadata": {
    "slideshow": {
     "slide_type": "-"
    }
   },
   "outputs": [
    {
     "name": "stdout",
     "output_type": "stream",
     "text": [
      "CPU times: user 34.4 ms, sys: 32.7 ms, total: 67.1 ms\n",
      "Wall time: 20.2 ms\n"
     ]
    }
   ],
   "source": [
    "%%time\n",
    "rate = 0.02\n",
    "spots = [100] * 5\n",
    "vols = [0.16] * 5\n",
    "corrs = np.full((5,5), 0.7)\n",
    "np.fill_diagonal(corrs, 1.0)\n",
    "timepoints = np.linspace(0.1, 2.0, 20)\n",
    "N = 1000\n",
    "\n",
    "p = bs_diffusion(rate, spots, vols, corrs, timepoints, N)"
   ]
  },
  {
   "cell_type": "code",
   "execution_count": 5,
   "metadata": {
    "slideshow": {
     "slide_type": "skip"
    }
   },
   "outputs": [],
   "source": [
    "time = np.append(0.0, timepoints)\n",
    "\n",
    "def eigsorted(cov):\n",
    "    vals, vecs = np.linalg.eig(cov)\n",
    "    order = vals.argsort()[::-1]\n",
    "    return vals[order], vecs[:,order]\n",
    "    \n",
    "\n",
    "def create_ellipse_for_scatter(x, y, nstd):\n",
    "    mu1 = np.average(x)\n",
    "    mu2 = np.average(y)\n",
    "    v1 = np.std(x)\n",
    "    v2 = np.std(y)\n",
    "    cov = np.cov(x, y)\n",
    "    \n",
    "    vals, vecs = eigsorted(cov)\n",
    "    theta = np.degrees(np.arctan2(*vecs[:,0][::-1]))\n",
    "    \n",
    "    w, h = nstd * nstd * np.sqrt(vals)\n",
    "    ell = Ellipse((np.mean(x), np.mean(y)), w, h, theta, edgecolor='r', fc='None', lw=2)\n",
    "    return ell\n",
    "    \n",
    "\n",
    "def plot_bs_diffusion(time, spot_paths):\n",
    "    fig1, ((ax1_1, ax1_2), (ax1_3, ax1_4)) = plt.subplots(2, 2, figsize=(20,10))\n",
    "    \n",
    "    #Asset 1, different paths\n",
    "    ax1_1.plot(time, spot_paths[0,:,0], color = 'b', label = 'Path 1')\n",
    "    ax1_1.plot(time, spot_paths[1,:,0], color = 'r', label = 'Path 2')\n",
    "    ax1_1.plot(time, spot_paths[2,:,0], color = 'g', label = 'Path 3')\n",
    "    ax1_1.set_title('Asset 1')\n",
    "    ax1_1.legend()\n",
    "\n",
    "    #Path 1, different assets\n",
    "    ax1_2.plot(time, spot_paths[0,:,0], color = 'b', label = 'Asset 1')\n",
    "    ax1_2.plot(time, spot_paths[0,:,1], color = 'r', label = 'Asset 2')\n",
    "    ax1_2.plot(time, spot_paths[0,:,2], color = 'g', label = 'Asset 3')\n",
    "    ax1_2.set_title('Path 1')\n",
    "    ax1_2.legend()\n",
    "\n",
    "    lr10 = np.log(spot_paths[:,1,0] / spot_paths[:,0,0])\n",
    "    lr11= np.log(spot_paths[:,1,1] / spot_paths[:,0,1])\n",
    "    lr20 = np.log(spot_paths[:,2,0] / spot_paths[:,1,0])\n",
    "    \n",
    "    #Scatter Asset 1 vs Asset 2 log-returns in period 1 - should be as per input coefficient\n",
    "    ax1_3.scatter(lr10, lr11, color = 'b')\n",
    "    ellipse1_3_1 = create_ellipse_for_scatter(lr10, lr11, 1)\n",
    "    ellipse1_3_2 = create_ellipse_for_scatter(lr10, lr11, 2)\n",
    "    ax1_3.add_patch(ellipse1_3_1)\n",
    "    ax1_3.add_patch(ellipse1_3_2)\n",
    "    ax1_3.set_title('Period 1 Log Returns')\n",
    "    ax1_3.set_xlabel('Asset 1')\n",
    "    ax1_3.set_ylabel('Asset 2')\n",
    "\n",
    "    #Scatter Asset 1 log-returns between period 1 & 2 - should be independent\n",
    "    ax1_4.scatter(lr10, lr20, color = 'b')\n",
    "    ellipse1_4_1 = create_ellipse_for_scatter(lr10, lr20, 1)\n",
    "    ellipse1_4_2 = create_ellipse_for_scatter(lr10, lr20, 2)\n",
    "    ax1_4.add_patch(ellipse1_4_1)\n",
    "    ax1_4.add_patch(ellipse1_4_2)\n",
    "    ax1_4.set_title('Asset 1 Log Returns')\n",
    "    ax1_4.set_xlabel('Period 1')\n",
    "    ax1_4.set_ylabel('Period 2')\n",
    "    \n",
    "    plt.show()\n",
    "    \n",
    "    return"
   ]
  },
  {
   "cell_type": "markdown",
   "metadata": {
    "slideshow": {
     "slide_type": "subslide"
    }
   },
   "source": [
    "And look at their statistical properties."
   ]
  },
  {
   "cell_type": "code",
   "execution_count": 6,
   "metadata": {
    "slideshow": {
     "slide_type": "-"
    }
   },
   "outputs": [
    {
     "data": {
      "image/png": "[encoded data removed]",
      "text/plain": [
       "<Figure size 1440x720 with 4 Axes>"
      ]
     },
     "metadata": {
      "needs_background": "light"
     },
     "output_type": "display_data"
    }
   ],
   "source": [
    "plot_bs_diffusion(time, p)"
   ]
  },
  {
   "cell_type": "markdown",
   "metadata": {
    "slideshow": {
     "slide_type": "slide"
    }
   },
   "source": [
    "# Risk Sensitivities\n",
    "\n",
    "We focus on computing the quantity\n",
    "\n",
    "$$\n",
    "\\frac{\\partial V}{\\partial \\theta} = \\frac{\\partial}{\\partial \\theta} E_0^Q \\left[PV_0(T) \\Pi(S) \\right]\n",
    "$$\n",
    "\n",
    "where $S$ is in vector form the set of spot prices across assets and timepoints that the payoff depends on, and $\\theta$ is a model related quantity.\n",
    "\n",
    "We discuss 2 methods as an alternative to Finite Difference approximation\n",
    "- Payoff differentiation\n",
    "- Density differentiation"
   ]
  },
  {
   "cell_type": "markdown",
   "metadata": {
    "slideshow": {
     "slide_type": "subslide"
    }
   },
   "source": [
    "## Payoff Differentiation\n",
    "\n",
    "We interpret the simulated asset paths as a function of model quantities $\\theta$, so that\n",
    "\n",
    "$$\n",
    "\\frac{\\partial}{\\partial \\theta} PV_0(T) E_0^Q \\left[\\Pi(S(\\theta)) \\right] = PV_0(T) E_0^Q \\left[\\frac{\\partial \\Pi(S)}{\\partial S} \\frac{\\partial S}{\\partial \\theta} \\right]\n",
    "$$\n",
    "\n",
    "assuming $\\Pi$ is well-behaved. \n",
    "\n",
    "Here, $\\tfrac{\\partial \\Pi(S)}{\\partial S} \\in \\Re^{N_U \\cdot N_T}$ and $\\tfrac{\\partial S}{\\partial \\theta}$ is a path derivative."
   ]
  },
  {
   "cell_type": "markdown",
   "metadata": {
    "slideshow": {
     "slide_type": "subslide"
    }
   },
   "source": [
    "In the single asset BS case, $\\ln S_t = \\ln S_0 + \\left(r-\\tfrac{1}{2} \\Sigma^2\\right) t + \\Sigma W_t$ and it is straight-forward to deduce\n",
    "\n",
    "\\begin{eqnarray}\n",
    "\\frac{\\partial S_t}{\\partial S_0} & = & \\frac{S_t}{S_0} \\\\\n",
    "\\frac{\\partial S_t}{\\partial \\Sigma} & = & S_t \\times \\left(-\\Sigma t + W_t \\right)\n",
    "\\end{eqnarray}\n",
    "\n",
    "Generalising to more general diffusions is possible but requires significantly more complicated frameworks e.g. see Malliavin calculus."
   ]
  },
  {
   "cell_type": "markdown",
   "metadata": {
    "slideshow": {
     "slide_type": "subslide"
    }
   },
   "source": [
    "For a single asset Asian option $\\Pi(S) = \\max (A_T - K, 0)$ where $A_T = \\tfrac{1}{N_T}\\sum_{t=1}^{N_T} S_t$\n",
    "\n",
    "$$\n",
    "\\frac{\\partial \\Pi(S)}{\\partial S} = \\frac{1_{A_T > K}}{N_T} \\times \\mathbb{1} \\in \\Re^{N_T}\n",
    "$$\n",
    "\n",
    "Therefore\n",
    "\n",
    "\\begin{eqnarray}\n",
    "\\frac{\\partial V}{\\partial S_0} & = & PV_0(T) E_0^Q \\left[\\frac{1_{A_T > K}}{S_0} A_T \\right] \\\\\n",
    "\\frac{\\partial V}{\\partial \\Sigma} & = & PV_0(T) E_0^Q \\left[\\frac{1_{A_T > K}}{N_T} \\sum_{t=1}^{N_T} S_{t_i} \\times \\left(-\\Sigma (t_i - t_{i-1}) + (W_t - W_{t-1}) \\right) \\right]\n",
    "\\end{eqnarray}\n",
    "\n",
    "where $\\tfrac{\\partial A}{\\partial S_t}$ is the sensitivity to a single summand $S_t$, with all other summands $S_{t^*}, t^* \\neq t$ fixed."
   ]
  },
  {
   "cell_type": "markdown",
   "metadata": {
    "slideshow": {
     "slide_type": "subslide"
    }
   },
   "source": [
    "In summary, \n",
    "- Each risk measure is an expected value, and the computational cost is half what FD requires\n",
    "- It works for simple continuous payoffs for which we can calculate the vector derivative $\\tfrac{\\partial\\Pi(S)}{\\partial S}$ e.g. call, put, Asian. But will not work for discontinuous payoffs e.g. digital option\n",
    "- It works for simple models for which we can compute the vector path derivative $\\tfrac{\\partial S}{\\partial\\theta}$. This generalises to more complex models, but needs significantly more advanced techniques\n",
    "\n",
    "Note that the expectation $E_0^Q[]$ is taken w.r.t. the underlying stochastic normal process $\\left\\{ W \\right\\}_{0 \\leq t \\leq T}$ whose probability distribution is independent of $\\theta$."
   ]
  },
  {
   "cell_type": "markdown",
   "metadata": {
    "slideshow": {
     "slide_type": "subslide"
    }
   },
   "source": [
    "## Density Differentiation\n",
    "\n",
    "An alternative angle is to express the valuation as an integration over the risk neutral probability density $q$ of the spot process $\\left\\{S \\right\\}_{0 \\leq t \\leq T}$, which is now itself a function of $\\theta$\n",
    "\n",
    "$$\n",
    "\\frac{\\partial}{\\partial \\theta} PV_0(T)  \\int \\Pi(S) q(S|\\theta) dS = PV_0(T)  \\int \\Pi(S) \\frac{\\partial q(S|\\theta)}{\\partial \\theta} dS\n",
    "$$\n",
    "\n",
    "Since $\\tfrac{dy}{dx} = \\tfrac{d \\ln y}{dx} y$, we express this as\n",
    "\n",
    "$$\n",
    "PV_0(T)  \\int \\Pi(S) \\frac{\\partial q(S|\\theta)}{\\partial \\theta}dS = PV_0(T)  \\int \\Pi(S) \\frac{\\partial \\ln q(S|\\theta)}{\\partial \\theta} q(S|\\theta)dS\n",
    "$$"
   ]
  },
  {
   "cell_type": "markdown",
   "metadata": {
    "slideshow": {
     "slide_type": "subslide"
    }
   },
   "source": [
    "For the single asset BS case, $S_T$ is distributed as\n",
    "\n",
    "$$\n",
    "q(S|\\theta) = \\frac{1}{S\\Sigma \\sqrt{T}} \\phi\\left(\\frac{\\ln \\tfrac{S}{K} - \\left(r-\\tfrac{\\Sigma^2}{2}\\right)T}{\\Sigma \\sqrt{T}}\\right)\n",
    "$$\n",
    "\n",
    "and from which we can calculate\n",
    "\n",
    "\\begin{eqnarray}\n",
    "\\frac{\\partial \\ln q(S|S_0)}{\\partial S_0} & = & \\frac{\\ln \\tfrac{S}{S_0} - \\left(r-\\tfrac{\\Sigma^2}{2}\\right)T}{S_0 \\Sigma^2 T}\n",
    "\\end{eqnarray}"
   ]
  },
  {
   "cell_type": "markdown",
   "metadata": {
    "slideshow": {
     "slide_type": "subslide"
    }
   },
   "source": [
    "In summary, \n",
    "- Each risk measure is an expected value, and the computational cost is half what FD requires\n",
    "- It works for all payoffs\n",
    "- It works for simple models for which we can compute the desnity derivative $\\tfrac{\\partial \\log q}{\\partial\\theta}$"
   ]
  },
  {
   "cell_type": "markdown",
   "metadata": {
    "slideshow": {
     "slide_type": "subslide"
    }
   },
   "source": [
    "# Quiz 1 - Payoff Vs Density Differentiation\n",
    "\n",
    "Which of the below statements is incorrect for a call option\n",
    "\n",
    "1. When using path differentiation, the Delta estimate converges to a positive value as $N_P$ increases\n",
    "2. When using path differentiation, the Delta is positive in each path $p$\n",
    "3. When using density differentiation, the Delta estimate converges to a positive value as $N_P$ increases\n",
    "4. When using desnity differentiation, the Delta is positive in each path $p$\n",
    "5. With either technique, OTM paths contribute 0 to Delta"
   ]
  },
  {
   "cell_type": "code",
   "execution_count": 7,
   "metadata": {
    "slideshow": {
     "slide_type": "skip"
    }
   },
   "outputs": [],
   "source": [
    "def mc_option_delta_by_path(spot, vol, rate, strike, texp, pt, nb_paths, seed = None):\n",
    "    if pt not in [bs_model.CALL, bs_model.PUT]:\n",
    "        raise Exception('Unrecognized payoff type: ' + pt)\n",
    "        \n",
    "    pv = np.exp(-rate*texp)\n",
    "    \n",
    "    epsilon = 0.01\n",
    "    \n",
    "    sp = bs_diffusion(rate, [spot], [vol], [[1.0]], [texp], nb_paths, seed)[:,-1,0]\n",
    "    spd = bs_diffusion(rate, [(1.0-epsilon) * spot], [vol], [[1.0]], [texp], nb_paths, seed)[:,-1,0]\n",
    "    spu = bs_diffusion(rate, [(1.0+epsilon) * spot], [vol], [[1.0]], [texp], nb_paths, seed)[:,-1,0]\n",
    "    \n",
    "    op = pv * bs_model.option_intrinsic_value(sp, strike, pt)\n",
    "    opd = pv * bs_model.option_intrinsic_value(spd, strike, pt)\n",
    "    opu = pv * bs_model.option_intrinsic_value(spu, strike, pt)\n",
    "    \n",
    "    fdds = (opu - opd) / (2.0*epsilon*spot)\n",
    "    if pt == bs_model.CALL:\n",
    "        dpds = sp / spot * pv * np.where(sp > strike, 1.0, 0.0)\n",
    "    else:\n",
    "        dpds = -sp / spot * pv * np.where(sp < strike, 1.0, 0.0)\n",
    "    ddds = op * (np.log(sp/spot) - (rate - 0.5*vol**2)*texp) / (spot * vol**2 * texp)\n",
    "    \n",
    "    return (fdds, dpds, ddds)\n",
    "\n",
    "def mc_option_delta(spot, vol, rate, strike, texp, pt, nb_paths, seed = None):\n",
    "    (fdds, dpds, ddds) = mc_option_delta_by_path(spot, vol, rate, strike, texp, pt, nb_paths, seed)\n",
    "    \n",
    "    fdd = np.average(fdds)\n",
    "    dpd = np.average(dpds)\n",
    "    ddd = np.average(ddds)\n",
    "    \n",
    "    return (fdd, dpd, ddd)"
   ]
  },
  {
   "cell_type": "code",
   "execution_count": 8,
   "metadata": {
    "slideshow": {
     "slide_type": "skip"
    }
   },
   "outputs": [],
   "source": [
    "def plot_option_deltas(spot, vol, rate, strike, texp, pt, nb_paths, seed = None):\n",
    "    if pt not in [bs_model.CALL, bs_model.PUT]:\n",
    "        raise Exception('Unrecognized payoff type: ' + pt)\n",
    "        \n",
    "    nb_conv = 20\n",
    "    if nb_paths % nb_conv != 0:\n",
    "        raise Exception('Number of paths should be multiple of ' + str(nb_conv) + ': ' + str(nb_paths))\n",
    "    \n",
    "    if pt == bs_model.CALL:\n",
    "        bins = np.linspace(-1.0, 2.0, 50)\n",
    "    else:\n",
    "        bins = np.linspace(-2.0, 1.0, 50)\n",
    "        \n",
    "    theo_delta = bs_model.option_risk(spot, vol, rate, strike, texp, pt)['Delta']\n",
    "    \n",
    "    (fdds, dpds, ddds) = mc_option_delta_by_path(spot, vol, rate, strike, texp, pt, nb_paths, seed)\n",
    "    \n",
    "    deltas = []\n",
    "    for n in range(1, nb_conv):\n",
    "        idx = int(nb_paths*n/nb_conv)\n",
    "        deltas.append((idx, theo_delta, np.average(fdds[0:idx]), np.average(dpds[0:idx]), np.average(ddds[0:idx])))\n",
    "        \n",
    "    fig2 = plt.figure(figsize=(20, 10))\n",
    "    fig2.suptitle('Estimating Delta for a European ' + pt, fontsize=16)\n",
    "    gs2 = fig2.add_gridspec(3, 2)\n",
    "    \n",
    "    #Finite difference delta histogram\n",
    "    fdd_m = np.average(fdds)\n",
    "    ax2_1 = fig2.add_subplot(gs2[0:1,0])\n",
    "    ax2_1.hist(fdds, bins = bins, color = 'b', label = 'FD Deltas')\n",
    "    ax2_1.axvline(x = fdd_m, label = 'Average Delta', color = 'r', lw=2)\n",
    "    ax2_1.set_title('Finite Difference')\n",
    "    ax2_1.legend()\n",
    "\n",
    "    #Payoff differentiation delta histogram\n",
    "    dpd_m = np.average(dpds)\n",
    "    ax2_2 = fig2.add_subplot(gs2[1:2,0])\n",
    "    ax2_2.hist(dpds, bins = bins, color = 'b', label = 'Payoff Diff Deltas')\n",
    "    ax2_2.axvline(x = dpd_m, label = 'Average Delta', color = 'r', lw=2)\n",
    "    ax2_2.set_title('Payoff differentiation')\n",
    "    ax2_2.legend()\n",
    "\n",
    "    #Density differentiation delta histogram\n",
    "    ddd_m = np.average(ddds)\n",
    "    ax2_3 = fig2.add_subplot(gs2[2:3,0])\n",
    "    ax2_3.hist(ddds, bins = bins, color = 'b', label = 'Density Diff Deltas')\n",
    "    ax2_3.axvline(x = ddd_m, label = 'Average Delta', color = 'r', lw=2)\n",
    "    ax2_3.set_title('Density differentiation')\n",
    "    ax2_3.legend()\n",
    "    \n",
    "    #Delta Convergence\n",
    "    df = pd.DataFrame(deltas, columns=['NbPaths', 'Theo', 'FD', 'DP', 'DD'])\n",
    "    df.set_index('NbPaths', inplace=True)\n",
    "    ax2_4 = fig2.add_subplot(gs2[0:3,1])\n",
    "    df.plot(ax=ax2_4, style='x-')\n",
    "    ax2_4.set_title('Convergence Report')\n",
    "    ax2_4.set_xlabel('Number of paths')\n",
    "    ax2_4.set_ylabel('Delta Estimate')\n",
    "    \n",
    "    plt.show()\n",
    "    \n",
    "    return df"
   ]
  },
  {
   "cell_type": "code",
   "execution_count": 9,
   "metadata": {
    "slideshow": {
     "slide_type": "subslide"
    }
   },
   "outputs": [
    {
     "data": {
      "image/png": "[encoded data removed]",
      "text/plain": [
       "<Figure size 1440x720 with 4 Axes>"
      ]
     },
     "metadata": {
      "needs_background": "light"
     },
     "output_type": "display_data"
    }
   ],
   "source": [
    "df = plot_option_deltas(100.0, 0.16, 0.05, 90.0, 1.0, 'CALL', 100000, 97)"
   ]
  },
  {
   "cell_type": "markdown",
   "metadata": {
    "slideshow": {
     "slide_type": "slide"
    }
   },
   "source": [
    "# Dependency Graph\n",
    "\n",
    "Sequence of relationships between intermediate variables and previous ones they depend on.\n",
    "\n",
    "$$\n",
    "y = f(x_1, x_2) = \\log(x_1) (\\log(x_1) + \\sin(x_2))\n",
    "$$\n",
    "\n",
    "A likely implementation is"
   ]
  },
  {
   "cell_type": "code",
   "execution_count": 10,
   "metadata": {
    "slideshow": {
     "slide_type": "-"
    }
   },
   "outputs": [],
   "source": [
    "def f(x1, x2):\n",
    "    v3 = np.log(x1)\n",
    "    v4 = np.sin(x2)\n",
    "    v5 = v3 + v4\n",
    "    y = v3 * v5\n",
    "    return y"
   ]
  },
  {
   "cell_type": "code",
   "execution_count": 11,
   "metadata": {
    "slideshow": {
     "slide_type": "skip"
    }
   },
   "outputs": [],
   "source": [
    "def view_pydot(pdot):\n",
    "    plt = Image(pdot.create_png())\n",
    "    display(plt)"
   ]
  },
  {
   "cell_type": "code",
   "execution_count": 12,
   "metadata": {
    "slideshow": {
     "slide_type": "skip"
    }
   },
   "outputs": [],
   "source": [
    "g = pydot.Dot(graph_type='digraph', rankdir='LR')\n",
    "\n",
    "for nid in ['x1', 'x2']:\n",
    "    g.add_node(pydot.Node(nid, fontcolor = 'black', fillcolor = 'green', style = 'filled', shape = 'square'))\n",
    "    \n",
    "for nid in ['y']:\n",
    "    g.add_node(pydot.Node(nid, fontcolor = 'black', fillcolor = 'orange', style = 'filled', shape = 'square'))    \n",
    "    \n",
    "for nid in ['log', 'sin', '+', '*']:\n",
    "    g.add_node(pydot.Node(nid, fontcolor = 'black', fillcolor = 'pink', style = 'filled'))\n",
    "\n",
    "g.add_edge(pydot.Edge('x1', 'log', label = 'v1', labelangle = 45))\n",
    "g.add_edge(pydot.Edge('x2', 'sin', label = 'v2'))\n",
    "g.add_edge(pydot.Edge('log', '+', label = 'v3'))\n",
    "g.add_edge(pydot.Edge('sin', '+', label = 'v4'))\n",
    "g.add_edge(pydot.Edge('log', '*', label = 'v3'))\n",
    "g.add_edge(pydot.Edge('+','*', label = 'v5'))\n",
    "g.add_edge(pydot.Edge('*','y', label = 'v6'))"
   ]
  },
  {
   "cell_type": "markdown",
   "metadata": {
    "slideshow": {
     "slide_type": "subslide"
    }
   },
   "source": [
    "This is represented as a ***Directed Acyclic Graph*** (DAG) where the ***nodes*** represent the operations and the ***edges*** the data flow."
   ]
  },
  {
   "cell_type": "code",
   "execution_count": 15,
   "metadata": {
    "slideshow": {
     "slide_type": "-"
    }
   },
   "outputs": [
    {
     "ename": "FileNotFoundError",
     "evalue": "[Errno 2] \"dot\" not found in path.",
     "output_type": "error",
     "traceback": [
      "\u001b[0;31m---------------------------------------------------------------------------\u001b[0m",
      "\u001b[0;31mFileNotFoundError\u001b[0m                         Traceback (most recent call last)",
      "\u001b[0;32m/srv/conda/envs/notebook/lib/python3.7/site-packages/pydot.py\u001b[0m in \u001b[0;36mcreate\u001b[0;34m(self, prog, format, encoding)\u001b[0m\n\u001b[1;32m   1925\u001b[0m                 \u001b[0marguments\u001b[0m\u001b[0;34m=\u001b[0m\u001b[0marguments\u001b[0m\u001b[0;34m,\u001b[0m\u001b[0;34m\u001b[0m\u001b[0;34m\u001b[0m\u001b[0m\n\u001b[0;32m-> 1926\u001b[0;31m                 \u001b[0mworking_dir\u001b[0m\u001b[0;34m=\u001b[0m\u001b[0mtmp_dir\u001b[0m\u001b[0;34m,\u001b[0m\u001b[0;34m\u001b[0m\u001b[0;34m\u001b[0m\u001b[0m\n\u001b[0m\u001b[1;32m   1927\u001b[0m             )\n",
      "\u001b[0;32m/srv/conda/envs/notebook/lib/python3.7/site-packages/pydot.py\u001b[0m in \u001b[0;36mcall_graphviz\u001b[0;34m(program, arguments, working_dir, **kwargs)\u001b[0m\n\u001b[1;32m    138\u001b[0m         \u001b[0mstdout\u001b[0m\u001b[0;34m=\u001b[0m\u001b[0msubprocess\u001b[0m\u001b[0;34m.\u001b[0m\u001b[0mPIPE\u001b[0m\u001b[0;34m,\u001b[0m\u001b[0;34m\u001b[0m\u001b[0;34m\u001b[0m\u001b[0m\n\u001b[0;32m--> 139\u001b[0;31m         \u001b[0;34m**\u001b[0m\u001b[0mkwargs\u001b[0m\u001b[0;34m\u001b[0m\u001b[0;34m\u001b[0m\u001b[0m\n\u001b[0m\u001b[1;32m    140\u001b[0m     )\n",
      "\u001b[0;32m/srv/conda/envs/notebook/lib/python3.7/subprocess.py\u001b[0m in \u001b[0;36m__init__\u001b[0;34m(self, args, bufsize, executable, stdin, stdout, stderr, preexec_fn, close_fds, shell, cwd, env, universal_newlines, startupinfo, creationflags, restore_signals, start_new_session, pass_fds, encoding, errors, text)\u001b[0m\n\u001b[1;32m    799\u001b[0m                                 \u001b[0merrread\u001b[0m\u001b[0;34m,\u001b[0m \u001b[0merrwrite\u001b[0m\u001b[0;34m,\u001b[0m\u001b[0;34m\u001b[0m\u001b[0;34m\u001b[0m\u001b[0m\n\u001b[0;32m--> 800\u001b[0;31m                                 restore_signals, start_new_session)\n\u001b[0m\u001b[1;32m    801\u001b[0m         \u001b[0;32mexcept\u001b[0m\u001b[0;34m:\u001b[0m\u001b[0;34m\u001b[0m\u001b[0;34m\u001b[0m\u001b[0m\n",
      "\u001b[0;32m/srv/conda/envs/notebook/lib/python3.7/subprocess.py\u001b[0m in \u001b[0;36m_execute_child\u001b[0;34m(self, args, executable, preexec_fn, close_fds, pass_fds, cwd, env, startupinfo, creationflags, shell, p2cread, p2cwrite, c2pread, c2pwrite, errread, errwrite, restore_signals, start_new_session)\u001b[0m\n\u001b[1;32m   1550\u001b[0m                             \u001b[0merr_msg\u001b[0m \u001b[0;34m+=\u001b[0m \u001b[0;34m': '\u001b[0m \u001b[0;34m+\u001b[0m \u001b[0mrepr\u001b[0m\u001b[0;34m(\u001b[0m\u001b[0merr_filename\u001b[0m\u001b[0;34m)\u001b[0m\u001b[0;34m\u001b[0m\u001b[0;34m\u001b[0m\u001b[0m\n\u001b[0;32m-> 1551\u001b[0;31m                     \u001b[0;32mraise\u001b[0m \u001b[0mchild_exception_type\u001b[0m\u001b[0;34m(\u001b[0m\u001b[0merrno_num\u001b[0m\u001b[0;34m,\u001b[0m \u001b[0merr_msg\u001b[0m\u001b[0;34m,\u001b[0m \u001b[0merr_filename\u001b[0m\u001b[0;34m)\u001b[0m\u001b[0;34m\u001b[0m\u001b[0;34m\u001b[0m\u001b[0m\n\u001b[0m\u001b[1;32m   1552\u001b[0m                 \u001b[0;32mraise\u001b[0m \u001b[0mchild_exception_type\u001b[0m\u001b[0;34m(\u001b[0m\u001b[0merr_msg\u001b[0m\u001b[0;34m)\u001b[0m\u001b[0;34m\u001b[0m\u001b[0;34m\u001b[0m\u001b[0m\n",
      "\u001b[0;31mFileNotFoundError\u001b[0m: [Errno 2] No such file or directory: 'dot': 'dot'",
      "\nDuring handling of the above exception, another exception occurred:\n",
      "\u001b[0;31mFileNotFoundError\u001b[0m                         Traceback (most recent call last)",
      "\u001b[0;32m<ipython-input-15-5a7ec7698e57>\u001b[0m in \u001b[0;36m<module>\u001b[0;34m\u001b[0m\n\u001b[0;32m----> 1\u001b[0;31m \u001b[0mview_pydot\u001b[0m\u001b[0;34m(\u001b[0m\u001b[0mg\u001b[0m\u001b[0;34m)\u001b[0m\u001b[0;34m\u001b[0m\u001b[0;34m\u001b[0m\u001b[0m\n\u001b[0m",
      "\u001b[0;32m<ipython-input-11-6a090a3c9122>\u001b[0m in \u001b[0;36mview_pydot\u001b[0;34m(pdot)\u001b[0m\n\u001b[1;32m      1\u001b[0m \u001b[0;32mdef\u001b[0m \u001b[0mview_pydot\u001b[0m\u001b[0;34m(\u001b[0m\u001b[0mpdot\u001b[0m\u001b[0;34m)\u001b[0m\u001b[0;34m:\u001b[0m\u001b[0;34m\u001b[0m\u001b[0;34m\u001b[0m\u001b[0m\n\u001b[0;32m----> 2\u001b[0;31m     \u001b[0mplt\u001b[0m \u001b[0;34m=\u001b[0m \u001b[0mImage\u001b[0m\u001b[0;34m(\u001b[0m\u001b[0mpdot\u001b[0m\u001b[0;34m.\u001b[0m\u001b[0mcreate_png\u001b[0m\u001b[0;34m(\u001b[0m\u001b[0;34m)\u001b[0m\u001b[0;34m)\u001b[0m\u001b[0;34m\u001b[0m\u001b[0;34m\u001b[0m\u001b[0m\n\u001b[0m\u001b[1;32m      3\u001b[0m     \u001b[0mdisplay\u001b[0m\u001b[0;34m(\u001b[0m\u001b[0mplt\u001b[0m\u001b[0;34m)\u001b[0m\u001b[0;34m\u001b[0m\u001b[0;34m\u001b[0m\u001b[0m\n",
      "\u001b[0;32m/srv/conda/envs/notebook/lib/python3.7/site-packages/pydot.py\u001b[0m in \u001b[0;36mnew_method\u001b[0;34m(f, prog, encoding)\u001b[0m\n\u001b[1;32m   1732\u001b[0m                 \u001b[0;34m\"\"\"Refer to docstring of method `create`.\"\"\"\u001b[0m\u001b[0;34m\u001b[0m\u001b[0;34m\u001b[0m\u001b[0m\n\u001b[1;32m   1733\u001b[0m                 return self.create(\n\u001b[0;32m-> 1734\u001b[0;31m                     format=f, prog=prog, encoding=encoding)\n\u001b[0m\u001b[1;32m   1735\u001b[0m             \u001b[0mname\u001b[0m \u001b[0;34m=\u001b[0m \u001b[0;34m'create_{fmt}'\u001b[0m\u001b[0;34m.\u001b[0m\u001b[0mformat\u001b[0m\u001b[0;34m(\u001b[0m\u001b[0mfmt\u001b[0m\u001b[0;34m=\u001b[0m\u001b[0mfrmt\u001b[0m\u001b[0;34m)\u001b[0m\u001b[0;34m\u001b[0m\u001b[0;34m\u001b[0m\u001b[0m\n\u001b[1;32m   1736\u001b[0m             \u001b[0mself\u001b[0m\u001b[0;34m.\u001b[0m\u001b[0m__setattr__\u001b[0m\u001b[0;34m(\u001b[0m\u001b[0mname\u001b[0m\u001b[0;34m,\u001b[0m \u001b[0mnew_method\u001b[0m\u001b[0;34m)\u001b[0m\u001b[0;34m\u001b[0m\u001b[0;34m\u001b[0m\u001b[0m\n",
      "\u001b[0;32m/srv/conda/envs/notebook/lib/python3.7/site-packages/pydot.py\u001b[0m in \u001b[0;36mcreate\u001b[0;34m(self, prog, format, encoding)\u001b[0m\n\u001b[1;32m   1931\u001b[0m                 args[1] = '\"{prog}\" not found in path.'.format(\n\u001b[1;32m   1932\u001b[0m                     prog=prog)\n\u001b[0;32m-> 1933\u001b[0;31m                 \u001b[0;32mraise\u001b[0m \u001b[0mOSError\u001b[0m\u001b[0;34m(\u001b[0m\u001b[0;34m*\u001b[0m\u001b[0margs\u001b[0m\u001b[0;34m)\u001b[0m\u001b[0;34m\u001b[0m\u001b[0;34m\u001b[0m\u001b[0m\n\u001b[0m\u001b[1;32m   1934\u001b[0m             \u001b[0;32melse\u001b[0m\u001b[0;34m:\u001b[0m\u001b[0;34m\u001b[0m\u001b[0;34m\u001b[0m\u001b[0m\n\u001b[1;32m   1935\u001b[0m                 \u001b[0;32mraise\u001b[0m\u001b[0;34m\u001b[0m\u001b[0;34m\u001b[0m\u001b[0m\n",
      "\u001b[0;31mFileNotFoundError\u001b[0m: [Errno 2] \"dot\" not found in path."
     ]
    }
   ],
   "source": [
    "view_pydot(g)"
   ]
  },
  {
   "cell_type": "markdown",
   "metadata": {
    "slideshow": {
     "slide_type": "-"
    }
   },
   "source": [
    "The Excel calculation engine is based on such a concept\n",
    "- It knows each cell's ancestors\n",
    "- When `x2` changes, the nodes `sin`, `+` and `*` need to be recalculated\n",
    "- But `log` is independent, so the current value of `v3` will be re-used for free"
   ]
  },
  {
   "cell_type": "markdown",
   "metadata": {
    "slideshow": {
     "slide_type": "slide"
    }
   },
   "source": [
    "# Automatic Differentiation (AD)\n",
    "\n",
    "AD is the programmatic logic that calculates the value of the derivative of a function (as opposed to the value of the function). AD isn't Symbolic Differentiation nor Numerical Differentiation.\n",
    "\n",
    "Consider the DAG for `f` which consumes $x \\in \\Re^N$ and, via a sequence of intermediate operations, produces $y \\in \\Re^M$. AD is the code associated with computing\n",
    "\n",
    "$$\n",
    "\\frac{dy}{dx} \\in \\Re^{N\\times M}\n",
    "$$\n",
    "\n",
    "It should be possible because `f` ultimately uses elementary operations to transform vector variables to others i.e. $u_0 \\rightarrow u_1 \\rightarrow u_2 \\rightarrow ... \\rightarrow u_{K-1} \\rightarrow u_K$."
   ]
  },
  {
   "cell_type": "markdown",
   "metadata": {
    "slideshow": {
     "slide_type": "subslide"
    }
   },
   "source": [
    "# Quiz 2\n",
    "\n",
    "In order to calculate the matrix product\n",
    "\n",
    "$$\n",
    "\\underbrace{A}_{1 \\times L} \\times \\underbrace{B}_{L \\times M} \\times \\underbrace{C}_{M \\times N}\n",
    "$$\n",
    "\n",
    "1. It is better to calculate $A\\times(B\\times C)$\n",
    "2. It is better to calculate $(A\\times B)\\times C$\n",
    "3. It makes no difference"
   ]
  },
  {
   "cell_type": "markdown",
   "metadata": {
    "slideshow": {
     "slide_type": "subslide"
    }
   },
   "source": [
    "# Quiz 3\n",
    "\n",
    "In order to calculate the matrix product\n",
    "\n",
    "$$\n",
    "\\underbrace{A}_{L \\times M} \\times \\underbrace{B}_{M \\times N} \\times \\underbrace{C}_{N \\times 1}\n",
    "$$\n",
    "\n",
    "1. It is better to calculate $A\\times(B\\times C)$\n",
    "2. It is better to calculate $(A\\times B)\\times C$\n",
    "3. It makes no difference"
   ]
  },
  {
   "cell_type": "markdown",
   "metadata": {
    "slideshow": {
     "slide_type": "subslide"
    }
   },
   "source": [
    "## Forward Propagation\n",
    "\n",
    "Denote by $\\dot{u_n}$ the derivative of intermediate variable $u_n$ w.r.t. the input values $u_0$. Then\n",
    "\n",
    "\\begin{eqnarray}\n",
    "\\dot{u_{n+1}} & = & D_n \\dot{u_n} \\\\\n",
    "D_n & = & \\frac{\\partial u_{n+1}}{\\partial u_n}\n",
    "\\end{eqnarray}\n",
    "\n",
    "Therefore,\n",
    "\n",
    "$$\n",
    "\\dot{u_K} = D_{K-1}D_{K-2}...D_1D_0\\dot{u_0}\n",
    "$$\n",
    "\n",
    "Multiply iteratively from right to left. Nice and intuitive."
   ]
  },
  {
   "cell_type": "markdown",
   "metadata": {
    "slideshow": {
     "slide_type": "subslide"
    }
   },
   "source": [
    "Note that\n",
    "- Forward AD augments the `f` code with operations to calculate $D_i$ and $\\dot{u_i}$, next to calculating $u_i$\n",
    "- The augmented code is swept forward to simultaneously evaluate $f$ and $f'$\n",
    "- To evaluate $\\dot{u_K} \\in \\Re^{N\\times M}$, $N$ re-runs of the augmented code are needed\n",
    "- Setting $\\dot{u_0}=(0,...,0,\\underbrace{1}_{i\\text{-th}},0,...,0)\\in \\Re^N$ will evaluate $\\tfrac{\\partial u_K}{\\partial u_{0i}}\\in \\Re^M$\n",
    "- Forward AD is efficient for $N<<M$"
   ]
  },
  {
   "cell_type": "markdown",
   "metadata": {
    "slideshow": {
     "slide_type": "subslide"
    }
   },
   "source": [
    "A likely implementation `f` is"
   ]
  },
  {
   "cell_type": "code",
   "execution_count": 16,
   "metadata": {
    "slideshow": {
     "slide_type": "-"
    }
   },
   "outputs": [],
   "source": [
    "def f(x1, x2):\n",
    "    v3 = np.log(x1)\n",
    "    v4 = np.sin(x2)\n",
    "    v5 = v3 + v4\n",
    "    y = v3 * v5\n",
    "    return y\n",
    "\n",
    "def f_dot_symbolic(x1, x2):\n",
    "    t = np.log(x1)\n",
    "    deriv = (2.0 * t/x1 + np.sin(x2)/x1, t * np.cos(x2))\n",
    "    return deriv"
   ]
  },
  {
   "cell_type": "markdown",
   "metadata": {
    "slideshow": {
     "slide_type": "subslide"
    }
   },
   "source": [
    "Augment the code with variables to calculate the forward accumulation in a single forward sweep."
   ]
  },
  {
   "cell_type": "code",
   "execution_count": 17,
   "metadata": {
    "slideshow": {
     "slide_type": "-"
    }
   },
   "outputs": [],
   "source": [
    "def f_dot_ad_fwd(x1, x2, x1_dot, x2_dot):\n",
    "    #Forward sweep to calculate f, D and dot\n",
    "    v1, v2 = x1, x2;                                         v1_dot, v2_dot = x1_dot, x2_dot\n",
    "    v3 = np.log(v1);  dv3_dv1 = 1.0 / v1;                    v3_dot = dv3_dv1 * v1_dot\n",
    "    v4 = np.sin(v2);  dv4_dv2 = np.cos(v2);                  v4_dot = dv4_dv2 * v2_dot\n",
    "    v5 = v3 + v4;     dv5_dv3 = 1.0;         dv5_dv4 = 1.0;  v5_dot = dv5_dv3 * v3_dot + dv5_dv4 * v4_dot\n",
    "    v6 = v3 * v5;     dv6_dv3 = v5;          dv6_dv5 = v3;   v6_dot = dv6_dv3 * v3_dot + dv6_dv5 * v5_dot\n",
    "    \n",
    "    return (v6, v6_dot)"
   ]
  },
  {
   "cell_type": "markdown",
   "metadata": {
    "slideshow": {
     "slide_type": "subslide"
    }
   },
   "source": [
    "Simple illustration"
   ]
  },
  {
   "cell_type": "code",
   "execution_count": 18,
   "metadata": {
    "slideshow": {
     "slide_type": "-"
    }
   },
   "outputs": [
    {
     "name": "stdout",
     "output_type": "stream",
     "text": [
      "f: 1.3959456652101419\n",
      "f' Symbolic: (1.1710813315574145, -0.062022986884674586)\n"
     ]
    }
   ],
   "source": [
    "a = 2.19\n",
    "b = 1.65\n",
    "\n",
    "print(\"f: \" + str(f(a, b)))\n",
    "print(\"f' Symbolic: \" + str(f_dot_symbolic(a, b)))"
   ]
  },
  {
   "cell_type": "code",
   "execution_count": 19,
   "metadata": {
    "slideshow": {
     "slide_type": "-"
    }
   },
   "outputs": [
    {
     "name": "stdout",
     "output_type": "stream",
     "text": [
      "f' AD_Fwd arg1: 1.1710813315574145\n",
      "f' AD Fwd arg2: -0.062022986884674586\n"
     ]
    }
   ],
   "source": [
    "print(\"f' AD_Fwd arg1: \" + str(f_dot_ad_fwd(a, b, 1.0, 0.0)[1]))   #deriv=(1,0) for f' w.r.t arg1\n",
    "print(\"f' AD Fwd arg2: \" + str(f_dot_ad_fwd(a, b, 0.0, 1.0)[1]))   #deriv=(0,1) for f' w.r.t arg2"
   ]
  },
  {
   "cell_type": "markdown",
   "metadata": {
    "slideshow": {
     "slide_type": "-"
    }
   },
   "source": [
    "Forward AD needs 2 sweeps to evaluate $f'$, one per input variable and using an appropriate $\\dot{u_0}$ seed. \n",
    "\n",
    "But no extra sweeps would be needed if `f` returned multiple outputs."
   ]
  },
  {
   "cell_type": "markdown",
   "metadata": {
    "slideshow": {
     "slide_type": "subslide"
    }
   },
   "source": [
    "# Backward Propagation\n",
    "\n",
    "Denote by $\\bar{u_n}$ the derivative of the output variable $u_K$ w.r.t. the intermediate variable $u_n$. Then\n",
    "\n",
    "\\begin{eqnarray}\n",
    "\\bar{u_n} & = & D^T_n \\bar{u_{n+1}} \\\\\n",
    "\\end{eqnarray}\n",
    "\n",
    "Therefore,\n",
    "\n",
    "$$\n",
    "\\bar{u_0} = D^T_0 D^T_1...D^T_{K-2} D^T_{K-1}\\bar{u_K}\n",
    "$$\n",
    "\n",
    "And multiply iteratively from right to left."
   ]
  },
  {
   "cell_type": "markdown",
   "metadata": {
    "slideshow": {
     "slide_type": "subslide"
    }
   },
   "source": [
    "Note that\n",
    "- Backward AD also augments the `f` code with operations to calculate $D_i$\n",
    "- The augmented code is swept forward to evaluate $f$ and $D$, and then backwards for $f'$\n",
    "- To evaluate $\\bar{u_0} \\in \\Re^{N\\times M}$, $M$ re-runs of the augmented code are needed\n",
    "- Setting $\\bar{u_K}=(0,...,0,\\underbrace{1}_{i\\text{-th}},0,...,0)\\in \\Re^M$ will evaluate $\\tfrac{\\partial u_{Ki}}{\\partial u_0}\\in \\Re^N$\n",
    "- Backward AD is efficient for $N>>M$"
   ]
  },
  {
   "cell_type": "markdown",
   "metadata": {
    "slideshow": {
     "slide_type": "subslide"
    }
   },
   "source": [
    "Augment the code with variables to calculate the backwards accumulation"
   ]
  },
  {
   "cell_type": "code",
   "execution_count": 20,
   "metadata": {
    "slideshow": {
     "slide_type": "-"
    }
   },
   "outputs": [],
   "source": [
    "def f_dot_ad_bwd(x1, x2, y_dot):\n",
    "    #Forward sweep to calculate f and D, similar to Fwd AD (but no need to caclulate the dot)\n",
    "    v1, v2 = x1, x2\n",
    "    v3 = np.log(v1);   dv3_dv1 = 1.0 / v1\n",
    "    v4 =  np.sin(v2);  dv4_dv2 = np.cos(v2)\n",
    "    v5 = v3 + v4;      dv5_dv3 = 1.0;        dv5_dv4 = 1.0\n",
    "    v6 = v3 * v5;      dv6_dv3 = v5;         dv6_dv5 = v3\n",
    "    \n",
    "    #Backward sweep to calculate bar\n",
    "    v6_bar = y_dot\n",
    "    v5_bar = dv6_dv5 * v6_bar\n",
    "    v3_bar = dv6_dv3 * v6_bar + dv5_dv3 * v5_bar\n",
    "    v4_bar = dv5_dv4 * v5_bar\n",
    "    v2_bar = dv4_dv2 * v4_bar\n",
    "    v1_bar = dv3_dv1 * v3_bar\n",
    "    \n",
    "    return (v6, (v1_bar, v2_bar))"
   ]
  },
  {
   "cell_type": "markdown",
   "metadata": {
    "slideshow": {
     "slide_type": "subslide"
    }
   },
   "source": [
    "Simple illustration"
   ]
  },
  {
   "cell_type": "code",
   "execution_count": 21,
   "metadata": {
    "slideshow": {
     "slide_type": "-"
    }
   },
   "outputs": [
    {
     "name": "stdout",
     "output_type": "stream",
     "text": [
      "f: 1.3959456652101419\n",
      "f' Symbolic: (1.1710813315574145, -0.062022986884674586)\n"
     ]
    }
   ],
   "source": [
    "print(\"f: \" + str(f(a, b)))\n",
    "print(\"f' Symbolic: \" + str(f_dot_symbolic(a, b)))"
   ]
  },
  {
   "cell_type": "code",
   "execution_count": 22,
   "metadata": {
    "slideshow": {
     "slide_type": "-"
    }
   },
   "outputs": [
    {
     "name": "stdout",
     "output_type": "stream",
     "text": [
      "f' AD_Bwd 1: (1.1710813315574145, -0.062022986884674586)\n"
     ]
    }
   ],
   "source": [
    "print(\"f' AD_Bwd 1: \" + str(f_dot_ad_bwd(a, b, 1.0)[1]))"
   ]
  },
  {
   "cell_type": "markdown",
   "metadata": {
    "slideshow": {
     "slide_type": "-"
    }
   },
   "source": [
    "Backward AD needs 1 sweep to evaluate $f'$ for both inputs, and a single value of $\\bar{u_0}$ seed. \n",
    "\n",
    "But extra sweeps would be needed if `f` returned multiple outputs."
   ]
  },
  {
   "cell_type": "markdown",
   "metadata": {
    "slideshow": {
     "slide_type": "subslide"
    }
   },
   "source": [
    "## AD Implementations\n",
    "\n",
    "Manually interleaving code for $\\dot{u_i}$, $\\bar{u_i}$ and $D_i$ inside the code for $f$ is error prone and complex. \n",
    "\n",
    "Software techniques have emerged to automate this process\n",
    "- Source code transformation consumes the code for $f$ and produces the code for $f'$\n",
    "- Graph libraries allow for calculations to be represented as a DAG, and offer significant toolkit to process these"
   ]
  },
  {
   "cell_type": "markdown",
   "metadata": {
    "slideshow": {
     "slide_type": "subslide"
    }
   },
   "source": [
    "The Black Scholes closed form looks like this in TensorFlow"
   ]
  },
  {
   "cell_type": "code",
   "execution_count": 30,
   "metadata": {},
   "outputs": [],
   "source": [
    "import tensorflow_probability as tfp\n",
    "\n",
    "@tf.function\n",
    "def ad_bs_call_option_price_graph(S, V, K, T):\n",
    "    Phi = tfp.distributions.Normal(0.0, 1.0).cdf\n",
    "    var = V**2 * T;  sqrtvar = tf.sqrt(var)\n",
    "    d1 = (tf.math.log(S/K) + var / 2.0) / sqrtvar;  d2 = d1 - sqrtvar\n",
    "    price =  S * Phi(d1) - K * Phi(d2)\n",
    "    return price\n",
    "\n",
    "def ad_bs_call_option_price(S, V, K, T):\n",
    "    S_var = tf.Variable(S); V_var = tf.Variable(V); K_var = tf.Variable(K); T_var = tf.Variable(T)\n",
    "    variables = {'S': S_var, 'V': V_var, 'K': K_var, 'T': T_var}\n",
    " \n",
    "    with tf.GradientTape() as g2:\n",
    "        with tf.GradientTape() as g1:\n",
    "            p = ad_bs_call_option_price_graph(**variables)\n",
    "        dv = g1.gradient(p, variables)\n",
    "    dv2 = g2.gradient(dv, {'S': S_var})\n",
    " \n",
    "    return {'Price': p.numpy(), 'Delta': dv['S'].numpy(), 'Gamma': dv2['S'].numpy(), 'Vega': dv['V'].numpy(),\n",
    "           'dP/dK': dv['K'].numpy(), 'dP/dT': dv['T'].numpy()}"
   ]
  },
  {
   "cell_type": "code",
   "execution_count": 31,
   "metadata": {
    "slideshow": {
     "slide_type": "-"
    }
   },
   "outputs": [],
   "source": [
    "S = 100.0;  V = 0.16\n",
    "K = 100.0;  T = 1.0; PT = bs_model.CALL"
   ]
  },
  {
   "cell_type": "code",
   "execution_count": 32,
   "metadata": {},
   "outputs": [],
   "source": [
    "S_var = tf.Variable(S); V_var = tf.Variable(V); K_var = tf.Variable(K); T_var = tf.Variable(T)\n",
    "graph = ad_bs_call_option_price_graph(S_var, V_var, K_var, T_var)"
   ]
  },
  {
   "cell_type": "code",
   "execution_count": 33,
   "metadata": {},
   "outputs": [
    {
     "name": "stdout",
     "output_type": "stream",
     "text": [
      "AD CF Risk: {'Price': 6.376278, 'Delta': 0.5318814, 'Gamma': 0.21474056, 'Vega': 39.766773, 'dP/dK': -0.46811864, 'dP/dT': 3.181342}\n",
      "CF Risk: {'Price': 6.376274402797485, 'Delta': 0.5318813720139874, 'Gamma': 0.024854231594475557, 'Vega': 39.76677055116089}\n",
      "CPU times: user 1.47 s, sys: 18.4 ms, total: 1.49 s\n",
      "Wall time: 1.53 s\n"
     ]
    }
   ],
   "source": [
    "%%time\n",
    "#Run the graph\n",
    "print('AD CF Risk: ' + str(ad_bs_call_option_price(S, V, K, T)))\n",
    "print('CF Risk: ' + str(bs_model.option_risk(S, V, 0.0, K, T, PT)))"
   ]
  },
  {
   "cell_type": "code",
   "execution_count": 34,
   "metadata": {
    "slideshow": {
     "slide_type": "skip"
    }
   },
   "outputs": [],
   "source": [
    "def view_tf(graph_def, max_const_size=32):\n",
    "    \"\"\"Visualize TensorFlow graph.\"\"\"\n",
    "    if hasattr(graph_def, 'as_graph_def'):\n",
    "        graph_def = graph_def.as_graph_def()\n",
    "    #strip_def = strip_consts(graph_def, max_const_size=max_const_size)\n",
    "    strip_def = graph_def\n",
    "    code = \"\"\"\n",
    "        <script>\n",
    "          function load() {{\n",
    "            document.getElementById(\"{id}\").pbtxt = {data};\n",
    "          }}\n",
    "        </script>\n",
    "        <link rel=\"import\" href=\"https://tensorboard.appspot.com/tf-graph-basic.build.html\" onload=load()>\n",
    "        <div style=\"height:600px\">\n",
    "          <tf-graph-basic id=\"{id}\"></tf-graph-basic>\n",
    "        </div>\n",
    "    \"\"\".format(data=repr(str(strip_def)), id='graph'+str(np.random.rand()))\n",
    "\n",
    "    iframe = \"\"\"\n",
    "        <iframe seamless style=\"width:1200px;height:620px;border:0\" srcdoc=\"{}\"></iframe>\n",
    "    \"\"\".format(code.replace('\"', '&quot;'))\n",
    "    display(HTML(iframe))"
   ]
  },
  {
   "cell_type": "code",
   "execution_count": 35,
   "metadata": {
    "slideshow": {
     "slide_type": "subslide"
    }
   },
   "outputs": [],
   "source": [
    "#view_tf(graph)"
   ]
  },
  {
   "cell_type": "markdown",
   "metadata": {
    "slideshow": {
     "slide_type": "subslide"
    }
   },
   "source": [
    "The Black Scholes monte carlo simulation looks like this in TensorFlow"
   ]
  },
  {
   "cell_type": "code",
   "execution_count": 36,
   "metadata": {},
   "outputs": [],
   "source": [
    "@tf.function\n",
    "def ad_bs_call_option_price_mc_graph(S, V, K, T, N):\n",
    "    e = tf.random.normal((N, 1))\n",
    "    S_T = S * tf.math.exp( (-V**2 / 2.0) * T + V * tf.sqrt(T) * e)\n",
    "    C_T = tf.math.maximum(S_T[:,-1] - K, 0)\n",
    "    price = tf.reduce_mean(C_T)\n",
    "    return price\n",
    "\n",
    "def ad_bs_call_option_price_mc(S, V, K, T, N):\n",
    "    S_var = tf.Variable(S); V_var = tf.Variable(V); K_var = tf.Variable(K); T_var = tf.Variable(T); N_var = tf.Variable(N)\n",
    "    variables = {'S': S_var, 'V': V_var, 'K': K_var, 'T': T_var, 'N': N_var}\n",
    " \n",
    "    p = ad_bs_call_option_price_mc_graph(**variables)\n",
    "    with tf.GradientTape() as g1:\n",
    "        p = ad_bs_call_option_price_mc_graph(**variables)\n",
    "    dv = g1.gradient(p, {k:v for k,v in variables.items() if k != 'N'}) \n",
    "    return {'Price': p.numpy(), 'Delta': dv['S'].numpy(), 'Vega': dv['V'].numpy()}    "
   ]
  },
  {
   "cell_type": "markdown",
   "metadata": {
    "slideshow": {
     "slide_type": "-"
    }
   },
   "source": [
    "Then, invoke calculations with different arguments every time."
   ]
  },
  {
   "cell_type": "code",
   "execution_count": 37,
   "metadata": {
    "slideshow": {
     "slide_type": "-"
    }
   },
   "outputs": [
    {
     "name": "stdout",
     "output_type": "stream",
     "text": [
      "AD MC Risk: {'Price': 6.3571577, 'Delta': 0.53265154, 'Vega': 39.601807}\n",
      "CF Risk: {'Price': 6.376274402797485, 'Delta': 0.5318813720139874, 'Gamma': 0.024854231594475557, 'Vega': 39.76677055116089}\n",
      "CPU times: user 266 ms, sys: 13.8 ms, total: 279 ms\n",
      "Wall time: 270 ms\n"
     ]
    }
   ],
   "source": [
    "%%time\n",
    "#Run the graph\n",
    "print('AD MC Risk: ' + str(ad_bs_call_option_price_mc(S, V, K, T, 100000)))\n",
    "print('CF Risk: ' + str(bs_model.option_risk(S, V, 0.0, K, T, PT)))"
   ]
  },
  {
   "cell_type": "code",
   "execution_count": 38,
   "metadata": {
    "slideshow": {
     "slide_type": "subslide"
    }
   },
   "outputs": [],
   "source": [
    "#view_tf(bs_call_mc_graph)"
   ]
  },
  {
   "cell_type": "markdown",
   "metadata": {
    "slideshow": {
     "slide_type": "subslide"
    }
   },
   "source": [
    "## AD Performance\n",
    "\n",
    "AD has gained significant popularity as a tool for calculating risk sensitivities\n",
    "- Valuation models are ultimately a DAG with 100s of inputs (spot prices, volatilities, term structures etc.) and 1 output i.e. the price. AD backward propagation is very promising\n",
    "- The computational cost tails off as the number of risk measures increases, in contrast to finite differences which increases linearly\n",
    "- It requires a particular coding style and structure. Dedicated libraries have emerged to facilitate this, and some support hardware abstraction e.g. CPU vs GPU\n",
    "- Discontinuities are a blocker, smoothing is a potential solution"
   ]
  },
  {
   "cell_type": "markdown",
   "metadata": {
    "slideshow": {
     "slide_type": "slide"
    }
   },
   "source": [
    "# Machine Learning\n",
    "\n",
    "The set of techniques a computer system is using in order to perform a task, without resorting to explicit instructions, but instead relying on patterns detected during training. \n",
    "\n",
    "Involves fitting a model in-sample, and then using it to make predictions out-of-sample.\n",
    "\n",
    "The theory and algorithms behind ML are known for decades, but there is significant recent momentum due to\n",
    "- Abundant and publicly available digital datasets to train the models e.g. the internet\n",
    "- Abundant and affordable computational resources e.g. the cloud"
   ]
  },
  {
   "cell_type": "markdown",
   "metadata": {
    "slideshow": {
     "slide_type": "subslide"
    }
   },
   "source": [
    "Consider the familiar linear model\n",
    "\n",
    "$$\n",
    "y = X'\\beta + \\epsilon\n",
    "$$\n",
    "\n",
    "- Learning process: given a training dataset $(X_T, y_T)$, the fitted model parameters are $\\hat{\\beta} = (X'_TX_T)^{-1}X'_Ty_T$\n",
    "- Prediction process: given an observed value $x_p$ and the fitted model $\\hat{\\beta}$, the prediction is $y_p = x'_p \\hat{\\beta}$\n",
    "- Performing a task without explicit instructions, based on learnt patterns\n",
    "- Used extensively across disciplines and contexts"
   ]
  },
  {
   "cell_type": "markdown",
   "metadata": {
    "slideshow": {
     "slide_type": "subslide"
    }
   },
   "source": [
    "Depending on the nature of the dependent variable $y$\n",
    "- ***Regression*** models a continuous variable e.g. $y = $ price\n",
    "- ***Classification*** models a discrete-valued variable e.g. $y=$ {cat, dog, neither}\n",
    "\n",
    "Depending on the availability and use of training data\n",
    "- ***Supervised*** learning works with a complete dataset $(X_T, y_T)$\n",
    "- ***Semi-supervised*** learning allows for some training results $y_T$ to be missing\n",
    "- ***Unsupervised*** learning only has access to $X_T$, and therefore focuses on data clustering and groupings\n",
    "- ***Reinforcement*** learning receives a feedback rule from each prediction"
   ]
  },
  {
   "cell_type": "markdown",
   "metadata": {
    "slideshow": {
     "slide_type": "subslide"
    }
   },
   "source": [
    "A few ML models include\n",
    "- Linear Models\n",
    "- Artificial Neural Networks (ANN)\n",
    "- Support Vector Machines (SVM)\n",
    "\n",
    "The learning / fitting process employs a vast range of numerical algorithms, including steepest descent, least squares, genetic algorithms etc. "
   ]
  },
  {
   "cell_type": "markdown",
   "metadata": {
    "slideshow": {
     "slide_type": "subslide"
    }
   },
   "source": [
    "## ANN Models\n",
    "\n",
    "An interconnected set of neurons $n_{i,j}$ organised in layers $j\\in\\{1,2,..,J\\}$ with $I(j)$ neurons per layer. Each $n_{i,j}$ accepts as inputs the outputs from ancestors $n_{k,j-1}$, and produces as output \n",
    "\n",
    "$$\n",
    "o_{i,j} = A\\left(\\sum_{k=1}^{I(j-1)} \\left(w_{i,j,k} \\times o_{k, j-1} + w_{i,j,0}\\right)\\right)\n",
    "$$\n",
    "\n",
    "where $A$ is an activation function e.g. the logistic function $\\tfrac{1}{1+e^{-x}}$, the hyperbolic tangent $\\tanh(x)$ and the Rectified Linear Unit (ReLU) $\\max(x,0)$. In this setup,\n",
    "- $w_{i,j,k}$ are model parameters to be fitted as part of the learning process\n",
    "- $J$, $I(j)$ and $A$ are the geometry of the neural network, typically fixed during the learning process"
   ]
  },
  {
   "cell_type": "markdown",
   "metadata": {
    "slideshow": {
     "slide_type": "subslide"
    }
   },
   "source": [
    "The Universal Approxmation Theorem for ANNs states that a continuous $f: [0,1]^N \\rightarrow [0,1]^M$ can be arbitrarily well approximated by a single hidden layer feed-forward ANN, given a reasonable activation function. For example, the single layer ANN is\n",
    "\n",
    "$$\n",
    "f_{ANN}(x) = \\sum_{k=1}^I v_k A(w_{k,1} x + w_{k,0})\n",
    "$$\n",
    "\n",
    "For a given $\\epsilon>0$, there exist $I$, $A$, $w$ and $v$ such that $|f(x) - f_{ANN}(X)|<\\epsilon$. \n",
    "\n",
    "So $f_{ANN}$ is dense in the space of continuous functions."
   ]
  },
  {
   "cell_type": "code",
   "execution_count": 39,
   "metadata": {
    "slideshow": {
     "slide_type": "skip"
    }
   },
   "outputs": [],
   "source": [
    "ann = pydot.Dot(graph_type='digraph', rankdir='UD')\n",
    "\n",
    "inputs = ['x1', 'x2', 'x3']\n",
    "outputs = ['y1', 'y2']\n",
    "neurons1 = ['n1_1', 'n1_2', 'n1_3', 'n1_4', 'n1_5', 'n1_6']\n",
    "neurons2 = ['n2_1', 'n2_2', 'n2_3', 'n2_4', 'n2_5', 'n2_6']\n",
    "\n",
    "for nid in inputs:\n",
    "    ann.add_node(pydot.Node(nid, fontcolor = 'black', fillcolor = 'green', style = 'filled', shape = 'circle'))\n",
    "    \n",
    "for nid in neurons1 + neurons2:\n",
    "    ann.add_node(pydot.Node(nid, fontcolor = 'black', fillcolor = 'pink', style = 'filled', shape = 'circle'))    \n",
    "\n",
    "for nid in outputs:\n",
    "    ann.add_node(pydot.Node(nid, fontcolor = 'black', fillcolor = 'orange', style = 'filled', shape = 'circle'))\n",
    "\n",
    "links = [(inputs, neurons1) , (neurons1, neurons2), (neurons2, outputs)]\n",
    "\n",
    "for l in links:\n",
    "    (ins, outs) = l\n",
    "    for i in ins:\n",
    "        for o in outs:\n",
    "            ann.add_edge(pydot.Edge(i, o))"
   ]
  },
  {
   "cell_type": "markdown",
   "metadata": {
    "slideshow": {
     "slide_type": "subslide"
    }
   },
   "source": [
    "Illustration of an ANN with 2 hidden layers"
   ]
  },
  {
   "cell_type": "code",
   "execution_count": 40,
   "metadata": {
    "slideshow": {
     "slide_type": "-"
    }
   },
   "outputs": [
    {
     "ename": "FileNotFoundError",
     "evalue": "[Errno 2] \"dot\" not found in path.",
     "output_type": "error",
     "traceback": [
      "\u001b[0;31m---------------------------------------------------------------------------\u001b[0m",
      "\u001b[0;31mFileNotFoundError\u001b[0m                         Traceback (most recent call last)",
      "\u001b[0;32m/srv/conda/envs/notebook/lib/python3.7/site-packages/pydot.py\u001b[0m in \u001b[0;36mcreate\u001b[0;34m(self, prog, format, encoding)\u001b[0m\n\u001b[1;32m   1925\u001b[0m                 \u001b[0marguments\u001b[0m\u001b[0;34m=\u001b[0m\u001b[0marguments\u001b[0m\u001b[0;34m,\u001b[0m\u001b[0;34m\u001b[0m\u001b[0;34m\u001b[0m\u001b[0m\n\u001b[0;32m-> 1926\u001b[0;31m                 \u001b[0mworking_dir\u001b[0m\u001b[0;34m=\u001b[0m\u001b[0mtmp_dir\u001b[0m\u001b[0;34m,\u001b[0m\u001b[0;34m\u001b[0m\u001b[0;34m\u001b[0m\u001b[0m\n\u001b[0m\u001b[1;32m   1927\u001b[0m             )\n",
      "\u001b[0;32m/srv/conda/envs/notebook/lib/python3.7/site-packages/pydot.py\u001b[0m in \u001b[0;36mcall_graphviz\u001b[0;34m(program, arguments, working_dir, **kwargs)\u001b[0m\n\u001b[1;32m    138\u001b[0m         \u001b[0mstdout\u001b[0m\u001b[0;34m=\u001b[0m\u001b[0msubprocess\u001b[0m\u001b[0;34m.\u001b[0m\u001b[0mPIPE\u001b[0m\u001b[0;34m,\u001b[0m\u001b[0;34m\u001b[0m\u001b[0;34m\u001b[0m\u001b[0m\n\u001b[0;32m--> 139\u001b[0;31m         \u001b[0;34m**\u001b[0m\u001b[0mkwargs\u001b[0m\u001b[0;34m\u001b[0m\u001b[0;34m\u001b[0m\u001b[0m\n\u001b[0m\u001b[1;32m    140\u001b[0m     )\n",
      "\u001b[0;32m/srv/conda/envs/notebook/lib/python3.7/subprocess.py\u001b[0m in \u001b[0;36m__init__\u001b[0;34m(self, args, bufsize, executable, stdin, stdout, stderr, preexec_fn, close_fds, shell, cwd, env, universal_newlines, startupinfo, creationflags, restore_signals, start_new_session, pass_fds, encoding, errors, text)\u001b[0m\n\u001b[1;32m    799\u001b[0m                                 \u001b[0merrread\u001b[0m\u001b[0;34m,\u001b[0m \u001b[0merrwrite\u001b[0m\u001b[0;34m,\u001b[0m\u001b[0;34m\u001b[0m\u001b[0;34m\u001b[0m\u001b[0m\n\u001b[0;32m--> 800\u001b[0;31m                                 restore_signals, start_new_session)\n\u001b[0m\u001b[1;32m    801\u001b[0m         \u001b[0;32mexcept\u001b[0m\u001b[0;34m:\u001b[0m\u001b[0;34m\u001b[0m\u001b[0;34m\u001b[0m\u001b[0m\n",
      "\u001b[0;32m/srv/conda/envs/notebook/lib/python3.7/subprocess.py\u001b[0m in \u001b[0;36m_execute_child\u001b[0;34m(self, args, executable, preexec_fn, close_fds, pass_fds, cwd, env, startupinfo, creationflags, shell, p2cread, p2cwrite, c2pread, c2pwrite, errread, errwrite, restore_signals, start_new_session)\u001b[0m\n\u001b[1;32m   1550\u001b[0m                             \u001b[0merr_msg\u001b[0m \u001b[0;34m+=\u001b[0m \u001b[0;34m': '\u001b[0m \u001b[0;34m+\u001b[0m \u001b[0mrepr\u001b[0m\u001b[0;34m(\u001b[0m\u001b[0merr_filename\u001b[0m\u001b[0;34m)\u001b[0m\u001b[0;34m\u001b[0m\u001b[0;34m\u001b[0m\u001b[0m\n\u001b[0;32m-> 1551\u001b[0;31m                     \u001b[0;32mraise\u001b[0m \u001b[0mchild_exception_type\u001b[0m\u001b[0;34m(\u001b[0m\u001b[0merrno_num\u001b[0m\u001b[0;34m,\u001b[0m \u001b[0merr_msg\u001b[0m\u001b[0;34m,\u001b[0m \u001b[0merr_filename\u001b[0m\u001b[0;34m)\u001b[0m\u001b[0;34m\u001b[0m\u001b[0;34m\u001b[0m\u001b[0m\n\u001b[0m\u001b[1;32m   1552\u001b[0m                 \u001b[0;32mraise\u001b[0m \u001b[0mchild_exception_type\u001b[0m\u001b[0;34m(\u001b[0m\u001b[0merr_msg\u001b[0m\u001b[0;34m)\u001b[0m\u001b[0;34m\u001b[0m\u001b[0;34m\u001b[0m\u001b[0m\n",
      "\u001b[0;31mFileNotFoundError\u001b[0m: [Errno 2] No such file or directory: 'dot': 'dot'",
      "\nDuring handling of the above exception, another exception occurred:\n",
      "\u001b[0;31mFileNotFoundError\u001b[0m                         Traceback (most recent call last)",
      "\u001b[0;32m<ipython-input-40-10c7ccfb1c53>\u001b[0m in \u001b[0;36m<module>\u001b[0;34m\u001b[0m\n\u001b[0;32m----> 1\u001b[0;31m \u001b[0mview_pydot\u001b[0m\u001b[0;34m(\u001b[0m\u001b[0mann\u001b[0m\u001b[0;34m)\u001b[0m\u001b[0;34m\u001b[0m\u001b[0;34m\u001b[0m\u001b[0m\n\u001b[0m",
      "\u001b[0;32m<ipython-input-11-6a090a3c9122>\u001b[0m in \u001b[0;36mview_pydot\u001b[0;34m(pdot)\u001b[0m\n\u001b[1;32m      1\u001b[0m \u001b[0;32mdef\u001b[0m \u001b[0mview_pydot\u001b[0m\u001b[0;34m(\u001b[0m\u001b[0mpdot\u001b[0m\u001b[0;34m)\u001b[0m\u001b[0;34m:\u001b[0m\u001b[0;34m\u001b[0m\u001b[0;34m\u001b[0m\u001b[0m\n\u001b[0;32m----> 2\u001b[0;31m     \u001b[0mplt\u001b[0m \u001b[0;34m=\u001b[0m \u001b[0mImage\u001b[0m\u001b[0;34m(\u001b[0m\u001b[0mpdot\u001b[0m\u001b[0;34m.\u001b[0m\u001b[0mcreate_png\u001b[0m\u001b[0;34m(\u001b[0m\u001b[0;34m)\u001b[0m\u001b[0;34m)\u001b[0m\u001b[0;34m\u001b[0m\u001b[0;34m\u001b[0m\u001b[0m\n\u001b[0m\u001b[1;32m      3\u001b[0m     \u001b[0mdisplay\u001b[0m\u001b[0;34m(\u001b[0m\u001b[0mplt\u001b[0m\u001b[0;34m)\u001b[0m\u001b[0;34m\u001b[0m\u001b[0;34m\u001b[0m\u001b[0m\n",
      "\u001b[0;32m/srv/conda/envs/notebook/lib/python3.7/site-packages/pydot.py\u001b[0m in \u001b[0;36mnew_method\u001b[0;34m(f, prog, encoding)\u001b[0m\n\u001b[1;32m   1732\u001b[0m                 \u001b[0;34m\"\"\"Refer to docstring of method `create`.\"\"\"\u001b[0m\u001b[0;34m\u001b[0m\u001b[0;34m\u001b[0m\u001b[0m\n\u001b[1;32m   1733\u001b[0m                 return self.create(\n\u001b[0;32m-> 1734\u001b[0;31m                     format=f, prog=prog, encoding=encoding)\n\u001b[0m\u001b[1;32m   1735\u001b[0m             \u001b[0mname\u001b[0m \u001b[0;34m=\u001b[0m \u001b[0;34m'create_{fmt}'\u001b[0m\u001b[0;34m.\u001b[0m\u001b[0mformat\u001b[0m\u001b[0;34m(\u001b[0m\u001b[0mfmt\u001b[0m\u001b[0;34m=\u001b[0m\u001b[0mfrmt\u001b[0m\u001b[0;34m)\u001b[0m\u001b[0;34m\u001b[0m\u001b[0;34m\u001b[0m\u001b[0m\n\u001b[1;32m   1736\u001b[0m             \u001b[0mself\u001b[0m\u001b[0;34m.\u001b[0m\u001b[0m__setattr__\u001b[0m\u001b[0;34m(\u001b[0m\u001b[0mname\u001b[0m\u001b[0;34m,\u001b[0m \u001b[0mnew_method\u001b[0m\u001b[0;34m)\u001b[0m\u001b[0;34m\u001b[0m\u001b[0;34m\u001b[0m\u001b[0m\n",
      "\u001b[0;32m/srv/conda/envs/notebook/lib/python3.7/site-packages/pydot.py\u001b[0m in \u001b[0;36mcreate\u001b[0;34m(self, prog, format, encoding)\u001b[0m\n\u001b[1;32m   1931\u001b[0m                 args[1] = '\"{prog}\" not found in path.'.format(\n\u001b[1;32m   1932\u001b[0m                     prog=prog)\n\u001b[0;32m-> 1933\u001b[0;31m                 \u001b[0;32mraise\u001b[0m \u001b[0mOSError\u001b[0m\u001b[0;34m(\u001b[0m\u001b[0;34m*\u001b[0m\u001b[0margs\u001b[0m\u001b[0;34m)\u001b[0m\u001b[0;34m\u001b[0m\u001b[0;34m\u001b[0m\u001b[0m\n\u001b[0m\u001b[1;32m   1934\u001b[0m             \u001b[0;32melse\u001b[0m\u001b[0;34m:\u001b[0m\u001b[0;34m\u001b[0m\u001b[0;34m\u001b[0m\u001b[0m\n\u001b[1;32m   1935\u001b[0m                 \u001b[0;32mraise\u001b[0m\u001b[0;34m\u001b[0m\u001b[0;34m\u001b[0m\u001b[0m\n",
      "\u001b[0;31mFileNotFoundError\u001b[0m: [Errno 2] \"dot\" not found in path."
     ]
    }
   ],
   "source": [
    "view_pydot(ann)"
   ]
  },
  {
   "cell_type": "code",
   "execution_count": 41,
   "metadata": {
    "slideshow": {
     "slide_type": "skip"
    }
   },
   "outputs": [],
   "source": [
    "def random_market(base_market, means, vols, correls, nb_samples, seed = None):\n",
    "    s, v, r = base_market\n",
    "    \n",
    "    if seed is not None:\n",
    "        np.random.seed(seed)\n",
    "    \n",
    "    cov = np.matmul(np.diag(vols), np.matmul(correls, np.diag(vols)))\n",
    "\n",
    "    random_market = np.random.multivariate_normal(means, cov, nb_samples)\n",
    "    random_market[:,0] = s * np.exp(random_market[:,0])\n",
    "    random_market[:,1] = v + random_market[:,1]\n",
    "    random_market[:,2] = r + random_market[:,2]\n",
    "    random_market = np.insert(random_market, 0, [s, v, r], axis=0)\n",
    "    \n",
    "    return random_market\n",
    "\n",
    "def value_option(markets, strike, texp, pt):\n",
    "    price = []\n",
    "    for s, v, r in markets:\n",
    "        pv = np.exp(-r * texp)\n",
    "        fwd = s / pv\n",
    "        price.append(bs_model.option_price(fwd, v, pv, strike, texp, pt))\n",
    "    \n",
    "    return np.asarray(price)"
   ]
  },
  {
   "cell_type": "markdown",
   "metadata": {
    "slideshow": {
     "slide_type": "subslide"
    }
   },
   "source": [
    "We illustrate the use of an ANN to learn the Black Scholes option pricing formula. First, create a training dataset $(\\theta_T, c_T)$ where $\\theta = [S, \\Sigma, r]$ and $c$ is the analytic BS price. We sample $\\theta$ as multi-variate normal shocks around their base values. "
   ]
  },
  {
   "cell_type": "code",
   "execution_count": 42,
   "metadata": {
    "slideshow": {
     "slide_type": "-"
    }
   },
   "outputs": [],
   "source": [
    "means = np.asarray([0.0, 0.0, 0.0])\n",
    "stdevs = np.asarray([V, 0.05, 0.02])\n",
    "correls = np.asarray([[1.0, -0.7, 0.2], [-0.7, 1.0, 0.3], [0.2, 0.3, 1.0]])\n",
    "R = 0.05\n",
    "\n",
    "market_training = random_market([S, V, R], means, stdevs, correls, 1000, 97)\n",
    "price_training = value_option(market_training, K, T, PT)"
   ]
  },
  {
   "cell_type": "markdown",
   "metadata": {
    "slideshow": {
     "slide_type": "subslide"
    }
   },
   "source": [
    "We then create the topology of an ANN, and fit it to the training dataset."
   ]
  },
  {
   "cell_type": "code",
   "execution_count": 43,
   "metadata": {
    "slideshow": {
     "slide_type": "-"
    }
   },
   "outputs": [
    {
     "name": "stderr",
     "output_type": "stream",
     "text": [
      "/srv/conda/envs/notebook/lib/python3.7/site-packages/sklearn/neural_network/_multilayer_perceptron.py:500: ConvergenceWarning: lbfgs failed to converge (status=1):\n",
      "STOP: TOTAL NO. of ITERATIONS REACHED LIMIT.\n",
      "\n",
      "Increase the number of iterations (max_iter) or scale the data as shown in:\n",
      "    https://scikit-learn.org/stable/modules/preprocessing.html\n",
      "  self.n_iter_ = _check_optimize_result(\"lbfgs\", opt_res, self.max_iter)\n"
     ]
    },
    {
     "data": {
      "text/plain": [
       "MLPRegressor(activation='tanh', solver='lbfgs')"
      ]
     },
     "execution_count": 43,
     "metadata": {},
     "output_type": "execute_result"
    }
   ],
   "source": [
    "scaler = StandardScaler()\n",
    "scaler.fit(market_training)\n",
    "X_training = scaler.transform(market_training)\n",
    "\n",
    "mlp = MLPRegressor(activation='tanh', solver='lbfgs')\n",
    "mlp.fit(X_training, price_training)"
   ]
  },
  {
   "cell_type": "code",
   "execution_count": 44,
   "metadata": {
    "slideshow": {
     "slide_type": "skip"
    }
   },
   "outputs": [],
   "source": [
    "def plot_ml_performance(market_test, strike, texp, pt, mlp, scaler):\n",
    "    X_test = scaler.transform(market_test)\n",
    "    \n",
    "    price_predict_exact = value_option(market_test, strike, texp, pt)\n",
    "    price_predict_mlp = mlp.predict(X_test)\n",
    "    print('R^2: ' + str(mlp.score(X_test, price_predict_exact)))\n",
    "    error = price_predict_mlp - price_predict_exact\n",
    "    \n",
    "    bins = int(len(market_test) / 10.0)\n",
    "    \n",
    "    fig3, (ax3_1, ax3_2) = plt.subplots(1, 2, figsize=(20,7))\n",
    "    fig3.suptitle('ML Performance for European ' + pt, fontsize=16)\n",
    "    \n",
    "    #MLP Histogram\n",
    "    ax3_1.hist(error, bins = bins, color = 'b', label = 'MLP Errors')\n",
    "    ax3_1.set_title('MLP Error')\n",
    "    ax3_1.set_xlabel('Error')\n",
    "    ax3_1.set_ylabel('Frequency')\n",
    "\n",
    "    ax3_2.scatter(x = price_predict_exact, y = price_predict_mlp, marker = 'o', color = 'b', label = 'MLP')\n",
    "    ax3_2.plot([price_predict_exact.min(), price_predict_exact.max()], [price_predict_exact.min(), price_predict_exact.max()], ls=\"-\", color='r', label = 'BS')\n",
    "    ax3_2.legend()\n",
    "    \n",
    "    plt.show()"
   ]
  },
  {
   "cell_type": "markdown",
   "metadata": {
    "slideshow": {
     "slide_type": "subslide"
    }
   },
   "source": [
    "We then create an out-of-sample set $\\theta_P$ and analyse the prediction error."
   ]
  },
  {
   "cell_type": "code",
   "execution_count": 45,
   "metadata": {
    "slideshow": {
     "slide_type": "-"
    }
   },
   "outputs": [
    {
     "name": "stdout",
     "output_type": "stream",
     "text": [
      "R^2: 0.9999921397221656\n"
     ]
    },
    {
     "data": {
      "image/png": "[encoded data removed]",
      "text/plain": [
       "<Figure size 1440x504 with 2 Axes>"
      ]
     },
     "metadata": {
      "needs_background": "light"
     },
     "output_type": "display_data"
    }
   ],
   "source": [
    "market_test = random_market([S, V, R], means, 0.5 * stdevs, correls, 1000, 98)\n",
    "plot_ml_performance(market_test, K, T, PT, mlp, scaler)"
   ]
  },
  {
   "cell_type": "code",
   "execution_count": 46,
   "metadata": {
    "slideshow": {
     "slide_type": "skip"
    }
   },
   "outputs": [],
   "source": [
    "def plot_ml_marginal_performance(base_market, strike, texp, pt, mlp, scaler):\n",
    "    s, v, r = base_market\n",
    "    \n",
    "    spots = np.linspace(0.5*S, 1.5*S, 101)\n",
    "    market_spot = [[s, V, R] for s in spots]\n",
    "    price_spot_exact = value_option(market_spot, K, T, bs_model.CALL)\n",
    "    price_spot_mlp = mlp.predict(scaler.transform(market_spot))\n",
    "\n",
    "    vols = np.linspace(V-0.1, V+0.1, 101)\n",
    "    market_vol = [[S, v, R] for v in vols]\n",
    "    price_vol_exact = value_option(market_vol, K, T, bs_model.CALL)\n",
    "    price_vol_mlp = mlp.predict(scaler.transform(market_vol))\n",
    "\n",
    "    rates = np.linspace(R-0.01, R+0.01, 11)\n",
    "    market_rate = [[S, V, r] for r in rates]\n",
    "    price_rate_exact = value_option(market_rate, K, T, bs_model.CALL)\n",
    "    price_rate_mlp = mlp.predict(scaler.transform(market_rate))\n",
    "    \n",
    "    fig4, (ax4_1, ax4_2, ax4_3) = plt.subplots(1, 3, figsize=(20,7))\n",
    "    fig4.suptitle('ML Performance for European ' + pt, fontsize=16)\n",
    "    \n",
    "    #Spot dimension\n",
    "    ax4_1.plot(spots, price_spot_exact, color = 'r', label = 'BS')\n",
    "    ax4_1.plot(spots, price_spot_mlp, color = 'b', label = 'MLP')\n",
    "    ax4_1.set_title('Spot Dimension')\n",
    "    ax4_1.set_xlabel('Spot')\n",
    "    ax4_1.set_ylabel('Price')\n",
    "    ax4_1.legend()\n",
    "    \n",
    "    #Vol dimension\n",
    "    ax4_2.plot(vols, price_vol_exact, color = 'r', label = 'BS')\n",
    "    ax4_2.plot(vols, price_vol_mlp, color = 'b', label = 'MLP')\n",
    "    ax4_2.set_title('Vol Dimension')\n",
    "    ax4_2.set_xlabel('Vol')\n",
    "    ax4_2.set_ylabel('Price')\n",
    "    ax4_2.legend()\n",
    "    \n",
    "    #Rate dimension\n",
    "    ax4_3.plot(rates, price_rate_exact, color = 'r', label = 'BS')\n",
    "    ax4_3.plot(rates, price_rate_mlp, color = 'b', label = 'MLP')\n",
    "    ax4_3.set_title('Rate Dimension')\n",
    "    ax4_3.set_xlabel('Rate')\n",
    "    ax4_3.set_ylabel('Price')\n",
    "    ax4_3.legend()\n",
    "\n",
    "    plt.show()"
   ]
  },
  {
   "cell_type": "markdown",
   "metadata": {
    "slideshow": {
     "slide_type": "subslide"
    }
   },
   "source": [
    "Finally, we create dedicated out-of-sample datasets spanning each model parameter independently, and benchmark the ANN vs the analytic formula."
   ]
  },
  {
   "cell_type": "code",
   "execution_count": 47,
   "metadata": {
    "slideshow": {
     "slide_type": "-"
    }
   },
   "outputs": [
    {
     "data": {
      "image/png": "[encoded data removed]",
      "text/plain": [
       "<Figure size 1440x504 with 3 Axes>"
      ]
     },
     "metadata": {
      "needs_background": "light"
     },
     "output_type": "display_data"
    }
   ],
   "source": [
    "plot_ml_marginal_performance([S, V, R], K, T, PT, mlp, scaler)"
   ]
  },
  {
   "cell_type": "markdown",
   "metadata": {
    "slideshow": {
     "slide_type": "subslide"
    }
   },
   "source": [
    "ML models are highly commoditised nowadays\n",
    "- They are available in many open-source libraries\n",
    "- They can be used as services on the cloud, at low cost\n",
    "- Their use appear straight-forward e.g. `model.fit(x_T, y_T); model.predict(x_P); model.score(x_P, y_P)`\n",
    "\n",
    "ML models are essentialy DAGs. During the learning process, the optimizer needs to compute the derivative of an objective function w.r.t. the model parameters, so AD techniques are heavily employed."
   ]
  },
  {
   "cell_type": "markdown",
   "metadata": {
    "slideshow": {
     "slide_type": "subslide"
    }
   },
   "source": [
    "Applications of ML in mathematical finance include\n",
    "- As function approximations to complex valuation models\n",
    "- Implied volatility parameterisation\n",
    "- American Monte Carlo and early exercise decisions\n",
    "- As approximators to PDE solutions\n",
    "- Non-parametric hedging\n",
    "\n",
    "With plenty more applications in financial services covering market making, statistical arbitrage, recommendation engines, middle and back office automation, chatbots etc."
   ]
  },
  {
   "cell_type": "markdown",
   "metadata": {
    "slideshow": {
     "slide_type": "subslide"
    }
   },
   "source": [
    "With caveats\n",
    "- The choice of the model matters i.e. the regressor or classifier type\n",
    "- While a given regressor looks simple e.g. `MLPRegressor()`, it actually comes with a very long list of optional tuning parameters - and they matter\n",
    "- Learning can require very large datasets\n",
    "- Extrapolation can be problematic (interpolation too)"
   ]
  },
  {
   "cell_type": "markdown",
   "metadata": {
    "slideshow": {
     "slide_type": "slide"
    }
   },
   "source": [
    "# Thank you for your attention!"
   ]
  },
  {
   "cell_type": "code",
   "execution_count": null,
   "metadata": {
    "slideshow": {
     "slide_type": "skip"
    }
   },
   "outputs": [],
   "source": []
  }
 ],
 "metadata": {
  "celltoolbar": "Slideshow",
  "kernelspec": {
   "display_name": "Python 3",
   "language": "python",
   "name": "python3"
  },
  "language_info": {
   "codemirror_mode": {
    "name": "ipython",
    "version": 3
   },
   "file_extension": ".py",
   "mimetype": "text/x-python",
   "name": "python",
   "nbconvert_exporter": "python",
   "pygments_lexer": "ipython3",
   "version": "3.7.10"
  }
 },
 "nbformat": 4,
 "nbformat_minor": 2
}
